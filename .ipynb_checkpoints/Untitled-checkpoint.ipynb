{
 "cells": [
  {
   "cell_type": "code",
   "execution_count": 6,
   "metadata": {
    "collapsed": false
   },
   "outputs": [
    {
     "name": "stdout",
     "output_type": "stream",
     "text": [
      "  (0, 1)\t-1.0\n",
      "  (0, 0)\t1.0\n",
      "  (1, 2)\t-1.0\n",
      "  (1, 1)\t2.0\n",
      "  (1, 0)\t-1.0\n",
      "  (2, 3)\t-1.0\n",
      "  (2, 2)\t2.0\n",
      "  (2, 1)\t-1.0\n",
      "  (3, 4)\t-1.0\n",
      "  (3, 3)\t2.0\n",
      "  (3, 2)\t-1.0\n",
      "  (4, 4)\t1.0\n",
      "  (4, 3)\t-1.0\n"
     ]
    }
   ],
   "source": [
    "from scipy.sparse import lil_matrix\n",
    "from scipy.sparse import identity\n",
    "from scipy.sparse.linalg import inv\n",
    "import time\n",
    "\n",
    "length = 5\n",
    "A = lil_matrix((length-1, length), dtype='d')\n",
    "for i in range(length-1):\n",
    "    A[i, i] = -1\n",
    "    A[i, i+1] = 1\n",
    "\n",
    "A_T = A.transpose()\n",
    "\n",
    "I = identity(length)\n",
    "\n",
    "temp = I + A_T.dot(A) * (1/0.01)\n",
    "lil_inv = inv(lil_matrix.tocsc(temp))\n",
    "\n",
    "#print(lil_inv)\n",
    "print(A_T.dot(A))"
   ]
  },
  {
   "cell_type": "code",
   "execution_count": null,
   "metadata": {
    "collapsed": true
   },
   "outputs": [],
   "source": []
  }
 ],
 "metadata": {
  "kernelspec": {
   "display_name": "Python 3",
   "language": "python",
   "name": "python3"
  },
  "language_info": {
   "codemirror_mode": {
    "name": "ipython",
    "version": 3
   },
   "file_extension": ".py",
   "mimetype": "text/x-python",
   "name": "python",
   "nbconvert_exporter": "python",
   "pygments_lexer": "ipython3",
   "version": "3.6.0"
  }
 },
 "nbformat": 4,
 "nbformat_minor": 2
}
