{
 "cells": [
  {
   "cell_type": "code",
   "execution_count": 2,
   "metadata": {
    "collapsed": false
   },
   "outputs": [
    {
     "name": "stdout",
     "output_type": "stream",
     "text": [
      "graph shape (400, 400)\n",
      "graph: [[     0.      0.  30000. ...,  30000.  30000.  30000.]\n",
      " [     0.      0.  30000. ...,  30000.  30000.  30000.]\n",
      " [     0.      0.  30000. ...,  30000.  30000.  30000.]\n",
      " ..., \n",
      " [ 30000.  30000.  30000. ...,  30000.      0.      0.]\n",
      " [ 30000.  30000.  30000. ...,  30000.      0.      0.]\n",
      " [ 30000.  30000.  30000. ...,  30000.      0.      0.]]\n",
      "p [[     0.      0. -30000. ..., -30000. -30000. -30000.]\n",
      " [     0.      0. -30000. ..., -30000. -30000. -30000.]\n",
      " [     0.      0.      0. ..., -30000. -30000. -30000.]\n",
      " ..., \n",
      " [-30000. -30000. -30000. ...,      0.      0.      0.]\n",
      " [-30000. -30000. -30000. ..., -30000.      0.      0.]\n",
      " [-30000. -30000. -30000. ..., -30000.      0.      0.]]\n",
      "[[ 0.  0.  0. ...,  0.  0.  0.]\n",
      " [ 0.  0.  0. ...,  0.  0.  0.]\n",
      " [ 0.  0.  0. ...,  0.  0.  0.]\n",
      " ..., \n",
      " [ 0.  0.  0. ...,  0.  0.  0.]\n",
      " [ 0.  0.  0. ...,  0.  0.  0.]\n",
      " [ 0.  0.  0. ...,  0.  0.  0.]]\n",
      "(array([  0,   0,   0, ..., 399, 399, 399]), array([  3,   4,   5, ..., 394, 395, 396]))\n"
     ]
    }
   ],
   "source": [
    "import numpy as np\n",
    "import numpy as np\n",
    "import scipy.misc\n",
    "import scipy as sp\n",
    "\n",
    "row = 20\n",
    "col = 20\n",
    "length = row * col\n",
    "matrix = scipy.misc.imread('../image/question_mark.jpg', mode=\"L\")\n",
    "# matrix = scipy.misc.imread('image/question_mark_2.jpg', mode=\"L\")\n",
    "matrix = sp.misc.imresize(matrix, (row, col)) / 255.\n",
    "\n",
    "graph = []\n",
    "for i in range(row):\n",
    "    for j in range(col):\n",
    "        vec = 30000 * np.ones(row*col)\n",
    "        pos = i * row + j\n",
    "        for m in [i-1, i, i+1]:\n",
    "            for n in [i-1, i, i+1]:\n",
    "                if 0 <= m <= row-1 and 0 <= n <= col-1:\n",
    "                    vec[m*row+n] = abs(matrix[i,j] - matrix[m, n])\n",
    "\n",
    "        graph.append(vec)\n",
    "graph = np.asarray(graph)\n",
    "#print(\"graph\", graph)\n",
    "print(\"graph shape\", graph.shape)\n",
    "\n",
    "#graph = np.array([[0,10,20,30,0,0],[10,0,0,0,0,7],[20,0,0,0,0,5],[30,0,0,0,10,0],[0,0,0,10,0,4],[0,7,5,0,4,0]])\n",
    "\n",
    "v = len(graph)\n",
    "\n",
    "# path reconstruction matrix\n",
    "p = np.zeros(graph.shape)\n",
    "for i in range(0,v):\n",
    "    for j in range(0,v):\n",
    "        p[i,j] = 0\n",
    "        if (i != j and graph[i,j] == 30000): \n",
    "            p[i,j] = -30000 \n",
    "            graph[i,j] = 30000 # set zeros to any large number which is bigger then the longest way\n",
    "\n",
    "print(\"graph:\", graph)\n",
    "print(\"p\", p)\n",
    "            \n",
    "for k in range(0,v):\n",
    "    for i in range(0,v):\n",
    "        for j in range(0,v):\n",
    "            if graph[i,j] > graph[i,k] + graph[k,j]:\n",
    "                graph[i,j] = graph[i,k] + graph[k,j]\n",
    "                p[i,j] = p[k,j]\n",
    "\n",
    "# show p matrix\n",
    "print(p)\n",
    "\n",
    "# non-zero in p\n",
    "print(np.nonzero(p))\n",
    "\n",
    "# reconstruct the path from 0 to 4\n",
    "# ConstructPath(p,0,4)"
   ]
  },
  {
   "cell_type": "code",
   "execution_count": null,
   "metadata": {
    "collapsed": true
   },
   "outputs": [],
   "source": []
  }
 ],
 "metadata": {
  "kernelspec": {
   "display_name": "Python 3",
   "language": "python",
   "name": "python3"
  },
  "language_info": {
   "codemirror_mode": {
    "name": "ipython",
    "version": 3
   },
   "file_extension": ".py",
   "mimetype": "text/x-python",
   "name": "python",
   "nbconvert_exporter": "python",
   "pygments_lexer": "ipython3",
   "version": "3.6.0"
  }
 },
 "nbformat": 4,
 "nbformat_minor": 2
}
