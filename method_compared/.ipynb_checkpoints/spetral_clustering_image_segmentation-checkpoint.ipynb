{
 "cells": [
  {
   "cell_type": "code",
   "execution_count": 8,
   "metadata": {
    "collapsed": false
   },
   "outputs": [],
   "source": [
    "%matplotlib inline"
   ]
  },
  {
   "cell_type": "markdown",
   "metadata": {},
   "source": [
    "\n",
    "# Segmenting the picture of a raccoon face in regions\n",
    "\n",
    "\n",
    "This example uses :ref:`spectral_clustering` on a graph created from\n",
    "voxel-to-voxel difference on an image to break this image into multiple\n",
    "partly-homogeneous regions.\n",
    "\n",
    "This procedure (spectral clustering on an image) is an efficient\n",
    "approximate solution for finding normalized graph cuts.\n",
    "\n",
    "There are two options to assign labels:\n",
    "\n",
    "* with 'kmeans' spectral clustering will cluster samples in the embedding space\n",
    "  using a kmeans algorithm\n",
    "* whereas 'discrete' will iteratively search for the closest partition\n",
    "  space to the embedding space.\n"
   ]
  },
  {
   "cell_type": "code",
   "execution_count": 9,
   "metadata": {
    "collapsed": false
   },
   "outputs": [
    {
     "name": "stdout",
     "output_type": "stream",
     "text": [
      "Automatically created module for IPython interactive environment\n",
      "(2500, 2500)\n",
      "(2500, 2500)\n"
     ]
    }
   ],
   "source": [
    "print(__doc__)\n",
    "\n",
    "# Author: Gael Varoquaux <gael.varoquaux@normalesup.org>, Brian Cheung\n",
    "# License: BSD 3 clause\n",
    "\n",
    "import time\n",
    "\n",
    "import numpy as np\n",
    "import scipy as sp\n",
    "import matplotlib.pyplot as plt\n",
    "\n",
    "from sklearn.feature_extraction import image\n",
    "from sklearn.cluster import spectral_clustering\n",
    "from sklearn.utils.testing import SkipTest\n",
    "from sklearn.utils.fixes import sp_version\n",
    "\n",
    "import scipy.misc\n",
    "\n",
    "if sp_version < (0, 12):\n",
    "    raise SkipTest(\"Skipping because SciPy version earlier than 0.12.0 and \"\n",
    "                   \"thus does not include the scipy.misc.face() image.\")\n",
    "\n",
    "\n",
    "# load the raccoon face as a numpy array\n",
    "try:\n",
    "    face = sp.face(gray=True)\n",
    "except AttributeError:\n",
    "    # Newer versions of scipy have face in misc\n",
    "    from scipy import misc\n",
    "    face = misc.face(gray=True)\n",
    "    \n",
    "from PIL import Image\n",
    "image2 = Image.open('../image/question_mark.jpg')\n",
    "image2 = image2.resize((100, 100))\n",
    "image2.save('../image/resize.jpg')\n",
    "    \n",
    "face_color = scipy.misc.imread('../image/resize.jpg')\n",
    "\n",
    "face = scipy.misc.imread('../image/resize.jpg', mode=\"L\")\n",
    "\n",
    "# Resize it to 10% of the original size to speed up the processing\n",
    "face = sp.misc.imresize(face, 0.5) / 255.\n",
    "face_color = sp.misc.imresize(face_color, 0.5) / 255.\n",
    "\n",
    "\n",
    "# Convert the image into a graph with the value of the gradient on the\n",
    "# edges.\n",
    "graph = image.img_to_graph(face)\n",
    "\n",
    "print(graph.shape)\n",
    "# Take a decreasing function of the gradient: an exponential\n",
    "# The smaller beta is, the more independent the segmentation is of the\n",
    "# actual image. For beta=1, the segmentation is close to a voronoi\n",
    "beta = 5\n",
    "eps = 1e-6\n",
    "graph.data = np.exp(-beta * graph.data / graph.data.std()) + eps\n",
    "print(graph.shape)\n",
    "\n",
    "# Apply spectral clustering (this step goes much faster if you have pyamg\n",
    "# installed)\n",
    "N_REGIONS = 3"
   ]
  },
  {
   "cell_type": "markdown",
   "metadata": {},
   "source": [
    "Visualize the resulting regions\n"
   ]
  },
  {
   "cell_type": "code",
   "execution_count": 10,
   "metadata": {
    "collapsed": false
   },
   "outputs": [
    {
     "name": "stdout",
     "output_type": "stream",
     "text": [
      "0\n",
      "1\n",
      "2\n",
      "Spectral clustering: kmeans, 0.63s\n",
      "0\n",
      "1\n",
      "2\n",
      "Spectral clustering: discretize, 0.73s\n"
     ]
    },
    {
     "data": {
      "image/png": "[encoded data removed]",
      "text/plain": [
       "<matplotlib.figure.Figure at 0x7f3f41a6bda0>"
      ]
     },
     "metadata": {},
     "output_type": "display_data"
    },
    {
     "data": {
      "image/png": "[encoded data removed]",
      "text/plain": [
       "<matplotlib.figure.Figure at 0x7f3f03f5ffd0>"
      ]
     },
     "metadata": {},
     "output_type": "display_data"
    }
   ],
   "source": [
    "for assign_labels in ('kmeans', 'discretize'):\n",
    "    t0 = time.time()\n",
    "    labels = spectral_clustering(graph, n_clusters=N_REGIONS,\n",
    "                                 assign_labels=assign_labels, random_state=1)\n",
    "    t1 = time.time()\n",
    "    labels = labels.reshape(face.shape)\n",
    "\n",
    "\n",
    "    plt.figure(figsize=(5, 5))\n",
    "    plt.imshow(face_color, cmap=plt.cm.gray)\n",
    "    for l in range(N_REGIONS):\n",
    "        plt.contour(labels == l, contours=1,\n",
    "                    colors=[plt.cm.spectral(l / float(N_REGIONS))])\n",
    "        print(l)\n",
    "    plt.xticks(())\n",
    "    plt.yticks(())\n",
    "    title = 'Spectral clustering: %s, %.2fs' % (assign_labels, (t1 - t0))\n",
    "    print(title)\n",
    "    plt.title(title)\n",
    "plt.show()"
   ]
  },
  {
   "cell_type": "code",
   "execution_count": null,
   "metadata": {
    "collapsed": true
   },
   "outputs": [],
   "source": []
  },
  {
   "cell_type": "code",
   "execution_count": null,
   "metadata": {
    "collapsed": true
   },
   "outputs": [],
   "source": []
  }
 ],
 "metadata": {
  "kernelspec": {
   "display_name": "Python 3",
   "language": "python",
   "name": "python3"
  },
  "language_info": {
   "codemirror_mode": {
    "name": "ipython",
    "version": 3
   },
   "file_extension": ".py",
   "mimetype": "text/x-python",
   "name": "python",
   "nbconvert_exporter": "python",
   "pygments_lexer": "ipython3",
   "version": "3.6.0"
  }
 },
 "nbformat": 4,
 "nbformat_minor": 0
}
