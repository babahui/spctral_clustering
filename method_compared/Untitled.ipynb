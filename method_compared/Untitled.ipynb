{
 "cells": [
  {
   "cell_type": "code",
   "execution_count": 9,
   "metadata": {
    "collapsed": false
   },
   "outputs": [],
   "source": [
    "from skimage import data, segmentation, color\n",
    "from skimage.future import graph\n",
    "from matplotlib import pyplot as plt\n",
    "\n",
    "\n",
    "img = data.coffee()\n",
    "\n",
    "labels1 = segmentation.slic(img, compactness=30, n_segments=400)\n",
    "out1 = color.label2rgb(labels1, img, kind='avg')\n",
    "\n",
    "g = graph.rag_mean_color(img, labels1, mode='similarity')\n",
    "labels2 = graph.cut_normalized(labels1, g)\n",
    "out2 = color.label2rgb(labels2, img, kind='avg')\n",
    "\n",
    "fig, ax = plt.subplots(nrows=2, sharex=True, sharey=True, figsize=(6, 8))\n",
    "\n",
    "ax[0].imshow(out1)\n",
    "ax[1].imshow(out2)\n",
    "\n",
    "for a in ax:\n",
    "    a.axis('off')\n",
    "\n",
    "plt.tight_layout()\n",
    "      \n",
    "# lc = graph.show_rag(labels1, g, img)\n",
    "# cbar = plt.colorbar(lc)\n",
    "# plt.show()"
   ]
  }
 ],
 "metadata": {
  "kernelspec": {
   "display_name": "Python 3",
   "language": "python",
   "name": "python3"
  },
  "language_info": {
   "codemirror_mode": {
    "name": "ipython",
    "version": 3
   },
   "file_extension": ".py",
   "mimetype": "text/x-python",
   "name": "python",
   "nbconvert_exporter": "python",
   "pygments_lexer": "ipython3",
   "version": "3.6.0"
  }
 },
 "nbformat": 4,
 "nbformat_minor": 2
}
