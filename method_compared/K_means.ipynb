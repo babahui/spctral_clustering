{
 "cells": [
  {
   "cell_type": "code",
   "execution_count": 10,
   "metadata": {
    "collapsed": false
   },
   "outputs": [
    {
     "name": "stdout",
     "output_type": "stream",
     "text": [
      "(50, 50, 3)\n",
      "iteration 0\n",
      "iteration 1\n",
      "iteration 2\n",
      "iteration 3\n",
      "iteration 4\n",
      "iteration 5\n",
      "iteration 6\n",
      "iteration 7\n",
      "iteration 8\n",
      "iteration 9\n",
      "[[0 0 0 ..., 0 0 0]\n",
      " [0 0 0 ..., 0 0 0]\n",
      " [0 0 0 ..., 0 0 0]\n",
      " ..., \n",
      " [2 2 2 ..., 3 3 3]\n",
      " [2 2 2 ..., 3 3 3]\n",
      " [2 2 2 ..., 3 3 3]]\n",
      "(50, 50)\n",
      "0.00986790657043457\n",
      "labels [[0 0 0 ..., 0 0 0]\n",
      " [0 0 0 ..., 0 0 0]\n",
      " [0 0 0 ..., 0 0 0]\n",
      " ..., \n",
      " [2 2 2 ..., 3 3 3]\n",
      " [2 2 2 ..., 3 3 3]\n",
      " [2 2 2 ..., 3 3 3]]\n"
     ]
    },
    {
     "name": "stderr",
     "output_type": "stream",
     "text": [
      "/home/yy/anaconda3/lib/python3.6/site-packages/ipykernel/__main__.py:15: VisibleDeprecationWarning: using a non-integer number instead of an integer will result in an error in the future\n",
      "/home/yy/anaconda3/lib/python3.6/site-packages/ipykernel/__main__.py:16: VisibleDeprecationWarning: using a non-integer number instead of an integer will result in an error in the future\n"
     ]
    },
    {
     "data": {
      "image/png": "[encoded data removed]",
      "text/plain": [
       "<matplotlib.figure.Figure at 0x7fb191ae1518>"
      ]
     },
     "metadata": {},
     "output_type": "display_data"
    }
   ],
   "source": [
    "import numpy as np\n",
    "import scipy.misc\n",
    "import scipy as sp\n",
    "import matplotlib.pyplot as plt\n",
    "import time\n",
    "\n",
    "N_REGIONS = 2\n",
    "\n",
    "def km_segmentation(image, n_segments=N_REGIONS, ratio=50, max_iter=100):                       \n",
    "    # initialize on grid:                                                                 \n",
    "    height, width = image.shape[:2]                                                       \n",
    "    # approximate grid size for desired n_segments                                        \n",
    "    step = np.sqrt(height * width / n_segments)                                           \n",
    "    grid_y, grid_x = np.mgrid[:height, :width]                                            \n",
    "    means_y = grid_y[::step, ::step]\n",
    "    means_x = grid_x[::step, ::step]\n",
    "                                                                                          \n",
    "    means_color = image[means_y, means_x, :]\n",
    "    means = np.dstack([means_y, means_x, means_color]).reshape(-1, 5)                     \n",
    "    image = np.dstack([grid_y, grid_x, image * ratio])                                    \n",
    "\n",
    "    nearest_mean = np.zeros((height, width), dtype=np.int)                                \n",
    "    distance = np.ones((height, width), dtype=np.float) * np.inf                          \n",
    "    for i in range(max_iter):\n",
    "        print(\"iteration %d\" % i)                                                         \n",
    "        nearest_mean_old = nearest_mean.copy()                                            \n",
    "        # assign pixels to means\n",
    "        for k, mean in enumerate(means):\n",
    "            # compute windows:\n",
    "            y_min = int(max(mean[0] - 2 * step, 0))\n",
    "            y_max = int(min(mean[0] + 2 * step, height))                                  \n",
    "            x_min = int(max(mean[1] - 2 * step, 0))                                       \n",
    "            x_max = int(min(mean[1] + 2 * step, height))                                  \n",
    "            search_window = image[y_min:y_max + 1, x_min:x_max + 1] \n",
    "            dist_mean = np.sum((search_window - mean) ** 2, axis=2)                       \n",
    "            assign = distance[y_min:y_max + 1, x_min:x_max + 1] > dist_mean               \n",
    "            nearest_mean[y_min:y_max + 1, x_min:x_max + 1][assign] = k                    \n",
    "            distance[y_min:y_max + 1, x_min:x_max + 1][assign] = dist_mean[assign]                                                     \n",
    "        if (nearest_mean == nearest_mean_old).all():                                      \n",
    "            break\n",
    "        # recompute means:\n",
    "        means = [np.bincount(nearest_mean.ravel(), image[:, :, j].ravel())                \n",
    "                for j in range(5)]\n",
    "        in_mean = np.bincount(nearest_mean.ravel())\n",
    "        means = (np.vstack(means) / in_mean).T\n",
    "    return nearest_mean\n",
    "\n",
    "#face = scipy.misc.imread('../image/lena.png', mode=\"L\")\n",
    "#from PIL import Image\n",
    "#image2 = Image.open('../image/horse001.jpg')\n",
    "#image2 = image2.resize((100, 100))\n",
    "#image2.save('../image/resize.jpg')\n",
    "\n",
    "#face = scipy.misc.imread('../image/lena.png', mode=\"L\")\n",
    "a=time.time()\n",
    "face = scipy.misc.imread('../image/question_mark.jpg', mode=\"RGB\")\n",
    "\n",
    "face = sp.misc.imresize(face, (50, 50)) / 255.\n",
    "\n",
    "print(face.shape)\n",
    "\n",
    "ner_mean = km_segmentation(face)\n",
    "print(ner_mean)\n",
    "print(ner_mean.shape)\n",
    "print(time.time()-a)\n",
    "\n",
    "labels = ner_mean\n",
    "print(\"labels\", labels)\n",
    "plt.figure(figsize=(5, 5))\n",
    "plt.imshow(face, cmap=plt.cm.gray)\n",
    "for l in range(N_REGIONS):\n",
    "    plt.contour(labels == l, contours=1,\n",
    "                colors=[plt.cm.spectral(l / float(N_REGIONS))])\n",
    "plt.xticks(())\n",
    "plt.yticks(())\n",
    "\n",
    "plt.show()"
   ]
  },
  {
   "cell_type": "code",
   "execution_count": 11,
   "metadata": {
    "collapsed": false
   },
   "outputs": [
    {
     "data": {
      "image/png": "[encoded data removed]",
      "text/plain": [
       "<matplotlib.figure.Figure at 0x7fb1919decf8>"
      ]
     },
     "metadata": {},
     "output_type": "display_data"
    }
   ],
   "source": [
    "face = scipy.misc.imread('../image/test16.jpg', mode=\"L\")\n",
    "\n",
    "face = sp.misc.imresize(face, (50, 50)) / 255.\n",
    "\n",
    "plt.figure()\n",
    "plt.imshow(face, cmap=plt.cm.gray)\n",
    "plt.show()"
   ]
  },
  {
   "cell_type": "code",
   "execution_count": 12,
   "metadata": {
    "collapsed": false
   },
   "outputs": [
    {
     "ename": "ModuleNotFoundError",
     "evalue": "No module named 'scipy.linalg.eigh'",
     "output_type": "error",
     "traceback": [
      "\u001b[0;31m---------------------------------------------------------------------------\u001b[0m",
      "\u001b[0;31mModuleNotFoundError\u001b[0m                       Traceback (most recent call last)",
      "\u001b[0;32m<ipython-input-12-18a45fe8e3b8>\u001b[0m in \u001b[0;36m<module>\u001b[0;34m()\u001b[0m\n\u001b[0;32m----> 1\u001b[0;31m \u001b[0;32mimport\u001b[0m \u001b[0mscipy\u001b[0m\u001b[0;34m.\u001b[0m\u001b[0mlinalg\u001b[0m\u001b[0;34m.\u001b[0m\u001b[0meigh\u001b[0m\u001b[0;34m\u001b[0m\u001b[0m\n\u001b[0m\u001b[1;32m      2\u001b[0m \u001b[0ma\u001b[0m\u001b[0;34m=\u001b[0m\u001b[0;34m[\u001b[0m\u001b[0;34m[\u001b[0m\u001b[0;36m0\u001b[0m\u001b[0;34m,\u001b[0m\u001b[0;36m2\u001b[0m\u001b[0;34m,\u001b[0m\u001b[0;36m3\u001b[0m\u001b[0;34m]\u001b[0m\u001b[0;34m,\u001b[0m\u001b[0;34m[\u001b[0m\u001b[0;36m2\u001b[0m\u001b[0;34m,\u001b[0m\u001b[0;36m0\u001b[0m\u001b[0;34m,\u001b[0m\u001b[0;36m3\u001b[0m\u001b[0;34m]\u001b[0m\u001b[0;34m,\u001b[0m\u001b[0;34m[\u001b[0m\u001b[0;36m3\u001b[0m\u001b[0;34m,\u001b[0m\u001b[0;36m2\u001b[0m\u001b[0;34m,\u001b[0m\u001b[0;36m0\u001b[0m\u001b[0;34m]\u001b[0m\u001b[0;34m]\u001b[0m\u001b[0;34m\u001b[0m\u001b[0m\n",
      "\u001b[0;31mModuleNotFoundError\u001b[0m: No module named 'scipy.linalg.eigh'"
     ]
    }
   ],
   "source": [
    "import scipy.linalg.eigh\n",
    "a=[[0,2,3],[2,0,3],[3,2,0]]"
   ]
  },
  {
   "cell_type": "code",
   "execution_count": null,
   "metadata": {
    "collapsed": true
   },
   "outputs": [],
   "source": []
  },
  {
   "cell_type": "code",
   "execution_count": null,
   "metadata": {
    "collapsed": true
   },
   "outputs": [],
   "source": []
  }
 ],
 "metadata": {
  "celltoolbar": "Slideshow",
  "kernelspec": {
   "display_name": "Python 3",
   "language": "python",
   "name": "python3"
  },
  "language_info": {
   "codemirror_mode": {
    "name": "ipython",
    "version": 3
   },
   "file_extension": ".py",
   "mimetype": "text/x-python",
   "name": "python",
   "nbconvert_exporter": "python",
   "pygments_lexer": "ipython3",
   "version": "3.6.0"
  }
 },
 "nbformat": 4,
 "nbformat_minor": 2
}
