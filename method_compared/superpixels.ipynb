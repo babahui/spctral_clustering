{
 "cells": [
  {
   "cell_type": "code",
   "execution_count": 3,
   "metadata": {
    "collapsed": false
   },
   "outputs": [
    {
     "name": "stderr",
     "output_type": "stream",
     "text": [
      "usage: __main__.py [-h] -i IMAGE\n",
      "__main__.py: error: the following arguments are required: -i/--image\n"
     ]
    },
    {
     "ename": "SystemExit",
     "evalue": "2",
     "output_type": "error",
     "traceback": [
      "An exception has occurred, use %tb to see the full traceback.\n",
      "\u001b[0;31mSystemExit\u001b[0m\u001b[0;31m:\u001b[0m 2\n"
     ]
    },
    {
     "name": "stderr",
     "output_type": "stream",
     "text": [
      "/home/yy/env/acaconda3/lib/python3.6/site-packages/IPython/core/interactiveshell.py:2889: UserWarning: To exit: use 'exit', 'quit', or Ctrl-D.\n",
      "  warn(\"To exit: use 'exit', 'quit', or Ctrl-D.\", stacklevel=1)\n"
     ]
    }
   ],
   "source": [
    "# import the necessary packages\n",
    "from skimage.segmentation import slic\n",
    "from skimage.segmentation import mark_boundaries\n",
    "from skimage.util import img_as_float\n",
    "from skimage import io\n",
    "import matplotlib.pyplot as plt\n",
    "import argparse\n",
    " \n",
    "# construct the argument parser and parse the arguments\n",
    "ap = argparse.ArgumentParser()\n",
    "ap.add_argument(\"-i\", \"--image\", required = True, help = \"Path to the image\")\n",
    "args = vars(ap.parse_args())\n",
    " \n",
    "# load the image and convert it to a floating point data type\n",
    "image = img_as_float(io.imread(args[\"image\"]))\n",
    " \n",
    "# loop over the number of segments\n",
    "for numSegments in (100, 200, 300):\n",
    "    # apply SLIC and extract (approximately) the supplied number\n",
    "    # of segments\n",
    "    segments = slic(image, n_segments = numSegments, sigma = 5)\n",
    " \n",
    "    # show the output of SLIC\n",
    "    fig = plt.figure()\n",
    "    #fig = plt.figure(\"Superpixels -- %d segments\" % (numSegments))\n",
    "    ax = fig.add_subplot(1, 1, 1)\n",
    "    ax.imshow(mark_boundaries(image, segments))\n",
    "    plt.axis(\"off\")\n",
    " \n",
    "# show the plots\n",
    "plt.show()    "
   ]
  },
  {
   "cell_type": "code",
   "execution_count": 10,
   "metadata": {
    "collapsed": false
   },
   "outputs": [
    {
     "ename": "SyntaxError",
     "evalue": "invalid syntax (<ipython-input-10-939a3d25a225>, line 9)",
     "output_type": "error",
     "traceback": [
      "\u001b[0;36m  File \u001b[0;32m\"<ipython-input-10-939a3d25a225>\"\u001b[0;36m, line \u001b[0;32m9\u001b[0m\n\u001b[0;31m    condition = [ for i in range(len(array)) array[i]==item ]\u001b[0m\n\u001b[0m                    ^\u001b[0m\n\u001b[0;31mSyntaxError\u001b[0m\u001b[0;31m:\u001b[0m invalid syntax\n"
     ]
    }
   ],
   "source": [
    "\n",
    "import numpy\n",
    "\n",
    "array = [1,2,3,4,4,4]\n",
    "item = 1\n",
    "itemindex = numpy.where(array==item)\n",
    "print(itemindex)\n",
    "\n",
    "condition = [ for i in range(len(array)) array[i]==item ]\n",
    "np.extract(condition, array)"
   ]
  },
  {
   "cell_type": "code",
   "execution_count": null,
   "metadata": {
    "collapsed": true
   },
   "outputs": [],
   "source": []
  }
 ],
 "metadata": {
  "kernelspec": {
   "display_name": "Python 3",
   "language": "python",
   "name": "python3"
  },
  "language_info": {
   "codemirror_mode": {
    "name": "ipython",
    "version": 3
   },
   "file_extension": ".py",
   "mimetype": "text/x-python",
   "name": "python",
   "nbconvert_exporter": "python",
   "pygments_lexer": "ipython3",
   "version": "3.6.0"
  }
 },
 "nbformat": 4,
 "nbformat_minor": 2
}
